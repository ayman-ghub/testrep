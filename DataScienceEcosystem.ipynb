{
 "cells": [
  {
   "cell_type": "markdown",
   "id": "992b60a8-606b-442b-9447-9549cf81fb3b",
   "metadata": {},
   "source": [
    "# Data Science Tools and Ecosystem"
   ]
  },
  {
   "cell_type": "markdown",
   "id": "f8f726cb-2aa4-4296-980b-7943d8738bf4",
   "metadata": {},
   "source": [
    "In this notebook, Data Science Tools and Ecosystem are summarized."
   ]
  },
  {
   "cell_type": "markdown",
   "id": "6cabfa07-77b1-4652-a5bc-96a647df9c0b",
   "metadata": {},
   "source": [
    "**Objectives:**\n",
    "* paython\n",
    "* R\n",
    "* SQL"
   ]
  },
  {
   "cell_type": "markdown",
   "id": "259c8cab-52c9-41e0-987a-3827223bb3a5",
   "metadata": {},
   "source": [
    "Some of the popular languages that Data scientist use are:\n",
    "1. R\n",
    "2. Python\n",
    "3. SQL"
   ]
  },
  {
   "cell_type": "markdown",
   "id": "e7e33ca6-3901-4c6d-b99d-1dedf9d717ea",
   "metadata": {},
   "source": [
    "Some of the commonly used libraries used by Data Scientists include:\n",
    "1. Pandas\n",
    "2. matplotlib\n",
    "3. Numpy\n",
    "4. TensorFlow"
   ]
  },
  {
   "cell_type": "markdown",
   "id": "fe2ff19a-fd71-467a-9df1-b7d3a6f91c17",
   "metadata": {
    "jp-MarkdownHeadingCollapsed": true
   },
   "source": [
    "Data Science Tools\n",
    "|------|\n",
    "|Rstudio |\n",
    "|Jupyter |\n",
    "|Visual studio |"
   ]
  },
  {
   "cell_type": "markdown",
   "id": "9bff6979-c520-40f8-93bf-1f790d32fe2f",
   "metadata": {},
   "source": [
    " ### Below are a few examples of evaluating arithmetic expressions in Python"
   ]
  },
  {
   "cell_type": "code",
   "execution_count": 2,
   "id": "239c9229-6d04-4996-95c7-a1eeec559133",
   "metadata": {},
   "outputs": [
    {
     "data": {
      "text/plain": [
       "17"
      ]
     },
     "execution_count": 2,
     "metadata": {},
     "output_type": "execute_result"
    }
   ],
   "source": [
    "#This a simple arithmetic expression to mutiply then add integers\n",
    "(3*4)+5"
   ]
  },
  {
   "cell_type": "code",
   "execution_count": 3,
   "id": "0b908812-65c0-4d2a-9e80-00b884e002c4",
   "metadata": {},
   "outputs": [
    {
     "data": {
      "text/plain": [
       "3.3333333333333335"
      ]
     },
     "execution_count": 3,
     "metadata": {},
     "output_type": "execute_result"
    }
   ],
   "source": [
    "#This will convert 200 minutes to hours by diving by 60\n",
    "200/60"
   ]
  },
  {
   "cell_type": "markdown",
   "id": "be23402a-cc99-4f5a-8223-8c3d90ff1576",
   "metadata": {},
   "source": [
    "## Author\n",
    "Ayman AbdelWahed"
   ]
  },
  {
   "cell_type": "code",
   "execution_count": null,
   "id": "7756e257-7be1-418c-822e-4c3536530ae9",
   "metadata": {},
   "outputs": [],
   "source": []
  }
 ],
 "metadata": {
  "kernelspec": {
   "display_name": "Python 3 (ipykernel)",
   "language": "python",
   "name": "python3"
  },
  "language_info": {
   "codemirror_mode": {
    "name": "ipython",
    "version": 3
   },
   "file_extension": ".py",
   "mimetype": "text/x-python",
   "name": "python",
   "nbconvert_exporter": "python",
   "pygments_lexer": "ipython3",
   "version": "3.12.8"
  }
 },
 "nbformat": 4,
 "nbformat_minor": 5
}
